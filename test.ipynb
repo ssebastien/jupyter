{
  "nbformat": 4,
  "nbformat_minor": 0,
  "metadata": {
    "colab": {
      "name": "Untitled0.ipynb",
      "provenance": [],
      "include_colab_link": true
    },
    "kernelspec": {
      "name": "python3",
      "display_name": "Python 3"
    }
  },
  "cells": [
    {
      "cell_type": "markdown",
      "metadata": {
        "id": "view-in-github",
        "colab_type": "text"
      },
      "source": [
        "<a href=\"https://colab.research.google.com/github/ssebastien/jupyter/blob/main/test.ipynb\" target=\"_parent\"><img src=\"https://colab.research.google.com/assets/colab-badge.svg\" alt=\"Open In Colab\"/></a>"
      ]
    },
    {
      "cell_type": "markdown",
      "metadata": {
        "id": "rauXbd_I-tAE"
      },
      "source": [
        "Test d'un Lab pour python\n",
        "\n",
        "\n",
        "Exemple addition en python\n"
      ]
    },
    {
      "cell_type": "code",
      "metadata": {
        "id": "3GRI-7Ic-5E8",
        "outputId": "eb9019e3-978b-435a-9d20-2de8d52b2311",
        "colab": {
          "base_uri": "https://localhost:8080/"
        }
      },
      "source": [
        "1 + 1"
      ],
      "execution_count": 1,
      "outputs": [
        {
          "output_type": "execute_result",
          "data": {
            "text/plain": [
              "2"
            ]
          },
          "metadata": {},
          "execution_count": 1
        }
      ]
    },
    {
      "cell_type": "markdown",
      "metadata": {
        "id": "UhmdltIh_Kx8"
      },
      "source": [
        "exemple python"
      ]
    },
    {
      "cell_type": "code",
      "metadata": {
        "id": "d3cYtnlW_PWZ",
        "outputId": "ddcec011-7ac9-47d7-e001-4cf6ee3b88be",
        "colab": {
          "base_uri": "https://localhost:8080/"
        }
      },
      "source": [
        "print ( \"#\"*20)"
      ],
      "execution_count": 2,
      "outputs": [
        {
          "output_type": "stream",
          "name": "stdout",
          "text": [
            "####################\n"
          ]
        }
      ]
    },
    {
      "cell_type": "code",
      "source": [
        "2*4\n"
      ],
      "metadata": {
        "id": "m4v_kAhfURkf"
      },
      "execution_count": 2,
      "outputs": []
    },
    {
      "cell_type": "markdown",
      "source": [
        "Maj notebook\n"
      ],
      "metadata": {
        "id": "m0_gP-_XUT29"
      }
    }
  ]
}