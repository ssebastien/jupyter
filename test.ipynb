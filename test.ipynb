{
  "nbformat": 4,
  "nbformat_minor": 0,
  "metadata": {
    "colab": {
      "name": "Untitled0.ipynb",
      "provenance": [],
      "collapsed_sections": [],
      "authorship_tag": "ABX9TyNW6AIegf85tTSf7mTCHH89",
      "include_colab_link": true
    },
    "kernelspec": {
      "name": "python3",
      "display_name": "Python 3"
    }
  },
  "cells": [
    {
      "cell_type": "markdown",
      "metadata": {
        "id": "view-in-github",
        "colab_type": "text"
      },
      "source": [
        "<a href=\"https://colab.research.google.com/github/ssebastien/jupyter/blob/main/test.ipynb\" target=\"_parent\"><img src=\"https://colab.research.google.com/assets/colab-badge.svg\" alt=\"Open In Colab\"/></a>"
      ]
    },
    {
      "cell_type": "markdown",
      "metadata": {
        "id": "rauXbd_I-tAE"
      },
      "source": [
        "Test d'un Lab pour python\n",
        "\n",
        "\n",
        "Exemple addition en python\n"
      ]
    },
    {
      "cell_type": "code",
      "metadata": {
        "id": "3GRI-7Ic-5E8"
      },
      "source": [
        "1 + 1"
      ],
      "execution_count": null,
      "outputs": []
    },
    {
      "cell_type": "markdown",
      "metadata": {
        "id": "UhmdltIh_Kx8"
      },
      "source": [
        "exemple python"
      ]
    },
    {
      "cell_type": "code",
      "metadata": {
        "id": "d3cYtnlW_PWZ"
      },
      "source": [
        "print ( \"#\"*20)"
      ],
      "execution_count": null,
      "outputs": []
    }
  ]
}